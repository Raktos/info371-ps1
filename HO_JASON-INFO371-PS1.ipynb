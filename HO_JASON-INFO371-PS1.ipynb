{
 "cells": [
  {
   "cell_type": "markdown",
   "metadata": {},
   "source": [
    "# Problem Set 1, due April 8th at 12:00pm \n",
    "(in other words, it is due at noon, or one minute after 11:59am).\n",
    "\n",
    "### Before You Start\n",
    "For this problem set, you should download INF0371-PS1.ipynb from Canvas. Create a local copy of the notebook and rename it LASTNAME_FIRSTNAME-PS1.ipynb. Then edit your renamed file directly in your browser by typing:\n",
    "```\n",
    "ipython notebook <name_of_downloaded_file>\n",
    "```\n",
    "\n",
    "Make sure the following libraries load correctly (hit Ctrl-Enter).\n"
   ]
  },
  {
   "cell_type": "code",
   "execution_count": 5,
   "metadata": {
    "collapsed": false
   },
   "outputs": [
    {
     "name": "stdout",
     "output_type": "stream",
     "text": [
      "IPython version:       4.0.3 (need at least 1.0)\nNumpy version:        1.10.4 (need at least 1.7.1)\nSciPy version:        0.17.0 (need at least 0.12.0)\nPandas version:       0.17.1 (need at least 0.11.0)\nMaplotlib version:     1.5.1 (need at least 1.2.1)\nScikit-Learn version:   0.17 (need at least 0.13.1)\n"
     ]
    }
   ],
   "source": [
    "#IPython is what you are using now to run the notebook\n",
    "import IPython\n",
    "print(\"IPython version:      %6.6s (need at least 1.0)\" % IPython.__version__)\n",
    "\n",
    "# Numpy is a library for working with Arrays\n",
    "import numpy as np\n",
    "print(\"Numpy version:        %6.6s (need at least 1.7.1)\" % np.__version__)\n",
    "\n",
    "# SciPy implements many different numerical algorithms\n",
    "import scipy as sp\n",
    "print(\"SciPy version:        %6.6s (need at least 0.12.0)\" % sp.__version__)\n",
    "\n",
    "# Pandas makes working with data tables easier\n",
    "import pandas as pd\n",
    "print(\"Pandas version:       %6.6s (need at least 0.11.0)\" % pd.__version__)\n",
    "\n",
    "# Module for plotting\n",
    "import matplotlib\n",
    "print(\"Maplotlib version:    %6.6s (need at least 1.2.1)\" % matplotlib.__version__)\n",
    "\n",
    "# SciKit Learn implements several Machine Learning algorithms\n",
    "import sklearn\n",
    "print(\"Scikit-Learn version: %6.6s (need at least 0.13.1)\" % sklearn.__version__)"
   ]
  },
  {
   "cell_type": "markdown",
   "metadata": {},
   "source": [
    "### Working in a group?\n",
    "List the names of other students with whom you worked on this problem set:\n",
    "- Annie Tao"
   ]
  },
  {
   "cell_type": "markdown",
   "metadata": {},
   "source": [
    "---\n",
    "\n",
    "## Introduction to the assignment\n",
    "\n",
    "For this assignment, you will be using the [Boston Housing Prices Data Set](http://archive.ics.uci.edu/ml/datasets/Housing).  Please read about the dataset carefully before continuing -- it is worth investing a few minutes up front otherwise you are likely to be hopelessly confused! Also, if you're new to analyzing data in Python, please make sure to read the relevant readings linked to on Canvas before beginning, otherwise you'll be stabbing in the dark.\n",
    "\n",
    "Use the following commands to load the dataset:"
   ]
  },
  {
   "cell_type": "code",
   "execution_count": 6,
   "metadata": {
    "collapsed": false
   },
   "outputs": [],
   "source": [
    "from sklearn.datasets import load_boston\n",
    "bdata = load_boston()"
   ]
  },
  {
   "cell_type": "markdown",
   "metadata": {},
   "source": [
    "The following commands will provide some basic information about the shape of the data:"
   ]
  },
  {
   "cell_type": "code",
   "execution_count": 7,
   "metadata": {
    "collapsed": false
   },
   "outputs": [
    {
     "ename": "SyntaxError",
     "evalue": "invalid syntax (<ipython-input-7-bdec962b6072>, line 1)",
     "traceback": [
      "\u001b[1;36m  File \u001b[1;32m\"<ipython-input-7-bdec962b6072>\"\u001b[1;36m, line \u001b[1;32m1\u001b[0m\n\u001b[1;33m    print bdata.keys()\u001b[0m\n\u001b[1;37m              ^\u001b[0m\n\u001b[1;31mSyntaxError\u001b[0m\u001b[1;31m:\u001b[0m invalid syntax\n"
     ],
     "output_type": "error"
    }
   ],
   "source": [
    "print bdata.keys()\n",
    "print bdata.feature_names\n",
    "print bdata.data.shape\n",
    "print bdata.target.shape\n",
    "\n",
    "# uncomment the following if you want to see a lengthy description of the dataset\n",
    "print bdata.DESCR"
   ]
  },
  {
   "cell_type": "code",
   "execution_count": 14,
   "metadata": {
    "collapsed": false
   },
   "outputs": [
    {
     "name": "stdout",
     "output_type": "stream",
     "text": [
      "(506, 13)\n",
      "Index([u'CRIM', u'ZN', u'INDUS', u'CHAS', u'NOX', u'RM', u'AGE', u'DIS',\n",
      "       u'RAD', u'TAX', u'PTRATIO', u'B', u'LSTAT'],\n",
      "      dtype='object')\n",
      "(506, 14)\n"
     ]
    }
   ],
   "source": [
    "boston = pd.DataFrame(bdata.data)\n",
    "boston.columns = bdata.feature_names[:]\n",
    "print boston.shape\n",
    "print boston.columns\n",
    "\n",
    "median = pd.DataFrame(bdata.target)\n",
    "median.columns = ['MEDV']\n",
    "\n",
    "boston = pd.concat([boston, median], axis=1)\n",
    "\n",
    "print boston.shape"
   ]
  },
  {
   "cell_type": "markdown",
   "metadata": {},
   "source": [
    "---\n",
    "\n",
    "## Part 1: Descriptive analysis\n",
    "\n",
    "### 1.1: Explore the data\n",
    "\n",
    "Let's dig into the data a bit to see what we're dealing with. The first thing to do is to make sure you understand how the data is organized, what the data types are, whether there is any missing data, and so forth. Get your bearings on your own, then answer the following questions.\n",
    "\n",
    " - 1.1.1: How many different variables are there in the dataset, and how many different observations?\n",
    " - 1.1.2: How many instances are classified as neighborhoods where the tract bounds the Charles River? \n",
    " - 1.1.3: Show that dataset does not contain any missing values.\n",
    " - 1.1.4: Display the property tax rate in the 5 neighborhoods that have the highest median housing price."
   ]
  },
  {
   "cell_type": "code",
   "execution_count": 17,
   "metadata": {
    "collapsed": false
   },
   "outputs": [
    {
     "name": "stdout",
     "output_type": "stream",
     "text": [
      "axes\n",
      "[RangeIndex(start=0, stop=506, step=1), Index([u'CRIM', u'ZN', u'INDUS', u'CHAS', u'NOX', u'RM', u'AGE', u'DIS',\n",
      "       u'RAD', u'TAX', u'PTRATIO', u'B', u'LSTAT', u'MEDV'],\n",
      "      dtype='object')]\n",
      "\n",
      "1.1.1\n",
      "shape (506, 14)\n",
      "size 7084\n",
      "\n",
      "1.1.2\n",
      "(35, 14)\n",
      "\n",
      "1.1.3\n",
      "7084\n",
      "\n",
      "1.1.4\n",
      "283    198.0\n",
      "225    307.0\n",
      "369    666.0\n",
      "370    666.0\n",
      "371    666.0\n",
      "Name: TAX, dtype: float64\n"
     ]
    },
    {
     "name": "stderr",
     "output_type": "stream",
     "text": [
      "C:\\Anaconda3\\envs\\py27\\lib\\site-packages\\ipykernel\\__main__.py:24: FutureWarning: sort(columns=....) is deprecated, use sort_values(by=.....)\n"
     ]
    }
   ],
   "source": [
    "##### enter your code here\n",
    "print(\"axes\")\n",
    "print(boston.axes)\n",
    "print(\"\")\n",
    "\n",
    "# 1.1.1 : 14 variables, 506 rows, 7084 observations\n",
    "print(\"1.1.1\")\n",
    "print(\"shape \" + str(boston.shape))\n",
    "print(\"size \" + str(boston.size))\n",
    "print(\"\")\n",
    "\n",
    "# 1.1.2 : there are 35\n",
    "print(\"1.1.2\")\n",
    "print(boston[boston.CHAS == 1].shape)\n",
    "print(\"\")\n",
    "\n",
    "# 1.1.3 : not null is the same size as the actual object\n",
    "print(\"1.1.3\")\n",
    "print(pd.DataFrame.notnull(boston).size)\n",
    "print(\"\")\n",
    "\n",
    "# 1.1.4 : \n",
    "# 198.0\n",
    "# 307.0\n",
    "# 666.0\n",
    "# 666.0\n",
    "# 666.0\n",
    "print(\"1.1.4\")\n",
    "print(boston.sort(['MEDV'], ascending=[0]).TAX.head(5))"
   ]
  },
  {
   "cell_type": "markdown",
   "metadata": {},
   "source": [
    "*Provide our answers below:*\n",
    "\n",
    " - 1.1.1: *Replace with your answer*\n",
    " - 1.1.2:\n",
    " - 1.1.3:\n",
    " - 1.1.4:"
   ]
  },
  {
   "cell_type": "markdown",
   "metadata": {},
   "source": [
    "### 1.2: Answer some basic questions\n",
    " - 1.2.1: What is the median housing price in Boston's most expensive neighborhood?\n",
    " - 1.2.2: How many neighborhoods have, on average, less than 5 rooms per dwelling?\n",
    " - 1.2.3: What is the property tax rate in the most expensive neighborhood that is also adjacent to the Charles River?\n",
    " - 1.2.4: What is the crime rate in the neighborhood with the highest median housing price? \n",
    " - 1.2.5: What is the crime rate in the neighborhood with the lowest median housing price?"
   ]
  },
  {
   "cell_type": "code",
   "execution_count": 8,
   "metadata": {
    "collapsed": false
   },
   "outputs": [
    {
     "ename": "NameError",
     "evalue": "name 'boston' is not defined",
     "traceback": [
      "\u001b[1;31m---------------------------------------------------------------------------\u001b[0m",
      "\u001b[1;31mNameError\u001b[0m                                 Traceback (most recent call last)",
      "\u001b[1;32m<ipython-input-8-60a6cad466fb>\u001b[0m in \u001b[0;36m<module>\u001b[1;34m()\u001b[0m\n\u001b[0;32m      1\u001b[0m \u001b[1;31m# 1.2.1 :  50\u001b[0m\u001b[1;33m\u001b[0m\u001b[1;33m\u001b[0m\u001b[0m\n\u001b[1;32m----> 2\u001b[1;33m \u001b[0mprint\u001b[0m\u001b[1;33m(\u001b[0m\u001b[0mboston\u001b[0m\u001b[1;33m.\u001b[0m\u001b[0msort\u001b[0m\u001b[1;33m(\u001b[0m\u001b[1;33m[\u001b[0m\u001b[1;34m'MEDV'\u001b[0m\u001b[1;33m]\u001b[0m\u001b[1;33m,\u001b[0m \u001b[0mascending\u001b[0m\u001b[1;33m=\u001b[0m\u001b[1;33m[\u001b[0m\u001b[1;36m0\u001b[0m\u001b[1;33m]\u001b[0m\u001b[1;33m)\u001b[0m\u001b[1;33m.\u001b[0m\u001b[0mMEDV\u001b[0m\u001b[1;33m.\u001b[0m\u001b[0mhead\u001b[0m\u001b[1;33m(\u001b[0m\u001b[1;36m1\u001b[0m\u001b[1;33m)\u001b[0m\u001b[1;33m)\u001b[0m\u001b[1;33m\u001b[0m\u001b[0m\n\u001b[0m\u001b[0;32m      3\u001b[0m \u001b[0mprint\u001b[0m\u001b[1;33m(\u001b[0m\u001b[1;34m\"\"\u001b[0m\u001b[1;33m)\u001b[0m\u001b[1;33m\u001b[0m\u001b[0m\n\u001b[0;32m      4\u001b[0m \u001b[1;33m\u001b[0m\u001b[0m\n\u001b[0;32m      5\u001b[0m \u001b[1;31m# 1.2.2 : 15 neighborhoods\u001b[0m\u001b[1;33m\u001b[0m\u001b[1;33m\u001b[0m\u001b[0m\n",
      "\u001b[1;31mNameError\u001b[0m: name 'boston' is not defined"
     ],
     "output_type": "error"
    }
   ],
   "source": [
    "# 1.2.1 :  50\n",
    "print(boston.sort(['MEDV'], ascending=[0]).MEDV.head(1))\n",
    "print(\"\")\n",
    "\n",
    "# 1.2.2 : 15 neighborhoods\n",
    "print(boston[boston.RM < 5].shape)\n",
    "print(\"\")\n",
    "\n",
    "# 1.2.3 : 198.0\n",
    "print(boston.sort(['MEDV'], ascending=[0])[boston.CHAS == 1].TAX.head(1))\n",
    "print(\"\")\n",
    "\n",
    "# 1.2.4 : 0.01501\n",
    "print(boston.sort(['MEDV'], ascending=[0]).CRIM.head(1))\n",
    "print(\"\")\n",
    "\n",
    "# 1.2.5 : 38.3518\n",
    "print(boston.sort(['MEDV'], ascending=[1]).CRIM.head(1))"
   ]
  },
  {
   "cell_type": "markdown",
   "metadata": {},
   "source": [
    "*Provide our answers below:*\n",
    "\n",
    " - 1.2.1: *Replace with your answer*\n",
    " - 1.2.2:\n",
    " - 1.2.3:\n",
    " - 1.2.4:\n",
    " - 1.2.5:"
   ]
  },
  {
   "cell_type": "markdown",
   "metadata": {},
   "source": [
    "### 1.3: Summary statistics\n",
    "\n",
    "Create a clean, organized table that shows just the following information (no more, no less) for each variable in the dataset. Note that your table should have K rows (one for each variable) and 7 columns, ordered as below:\n",
    " - The name of the variable\n",
    " - The number of observations with non-missing values\n",
    " - The mean of the variable\n",
    " - The standard deviation of the variable\n",
    " - The minimum value of the variable\n",
    " - The median of the variable\n",
    " - The maximum value of the variable"
   ]
  },
  {
   "cell_type": "code",
   "execution_count": 49,
   "metadata": {
    "collapsed": false
   },
   "outputs": [
    {
     "data": {
      "text/html": [
       "<div>\n",
       "<table border=\"1\" class=\"dataframe\">\n",
       "  <thead>\n",
       "    <tr style=\"text-align: right;\">\n",
       "      <th></th>\n",
       "      <th>name</th>\n",
       "      <th>observations</th>\n",
       "      <th>mean</th>\n",
       "      <th>std</th>\n",
       "      <th>min</th>\n",
       "      <th>med</th>\n",
       "      <th>max</th>\n",
       "    </tr>\n",
       "  </thead>\n",
       "  <tbody>\n",
       "    <tr>\n",
       "      <th>0</th>\n",
       "      <td>CRIM</td>\n",
       "      <td>506</td>\n",
       "      <td>3.593761</td>\n",
       "      <td>8.596783</td>\n",
       "      <td>0.00632</td>\n",
       "      <td>0.25651</td>\n",
       "      <td>88.9762</td>\n",
       "    </tr>\n",
       "    <tr>\n",
       "      <th>1</th>\n",
       "      <td>ZN</td>\n",
       "      <td>506</td>\n",
       "      <td>11.363636</td>\n",
       "      <td>23.322453</td>\n",
       "      <td>0.00000</td>\n",
       "      <td>0.00000</td>\n",
       "      <td>100.0000</td>\n",
       "    </tr>\n",
       "    <tr>\n",
       "      <th>2</th>\n",
       "      <td>INDUS</td>\n",
       "      <td>506</td>\n",
       "      <td>11.136779</td>\n",
       "      <td>6.860353</td>\n",
       "      <td>0.46000</td>\n",
       "      <td>9.69000</td>\n",
       "      <td>27.7400</td>\n",
       "    </tr>\n",
       "    <tr>\n",
       "      <th>3</th>\n",
       "      <td>CHAS</td>\n",
       "      <td>506</td>\n",
       "      <td>0.069170</td>\n",
       "      <td>0.253994</td>\n",
       "      <td>0.00000</td>\n",
       "      <td>0.00000</td>\n",
       "      <td>1.0000</td>\n",
       "    </tr>\n",
       "    <tr>\n",
       "      <th>4</th>\n",
       "      <td>NOX</td>\n",
       "      <td>506</td>\n",
       "      <td>0.554695</td>\n",
       "      <td>0.115878</td>\n",
       "      <td>0.38500</td>\n",
       "      <td>0.53800</td>\n",
       "      <td>0.8710</td>\n",
       "    </tr>\n",
       "    <tr>\n",
       "      <th>5</th>\n",
       "      <td>RM</td>\n",
       "      <td>506</td>\n",
       "      <td>6.284634</td>\n",
       "      <td>0.702617</td>\n",
       "      <td>3.56100</td>\n",
       "      <td>6.20850</td>\n",
       "      <td>8.7800</td>\n",
       "    </tr>\n",
       "    <tr>\n",
       "      <th>6</th>\n",
       "      <td>AGE</td>\n",
       "      <td>506</td>\n",
       "      <td>68.574901</td>\n",
       "      <td>28.148861</td>\n",
       "      <td>2.90000</td>\n",
       "      <td>77.50000</td>\n",
       "      <td>100.0000</td>\n",
       "    </tr>\n",
       "    <tr>\n",
       "      <th>7</th>\n",
       "      <td>DIS</td>\n",
       "      <td>506</td>\n",
       "      <td>3.795043</td>\n",
       "      <td>2.105710</td>\n",
       "      <td>1.12960</td>\n",
       "      <td>3.20745</td>\n",
       "      <td>12.1265</td>\n",
       "    </tr>\n",
       "    <tr>\n",
       "      <th>8</th>\n",
       "      <td>RAD</td>\n",
       "      <td>506</td>\n",
       "      <td>9.549407</td>\n",
       "      <td>8.707259</td>\n",
       "      <td>1.00000</td>\n",
       "      <td>5.00000</td>\n",
       "      <td>24.0000</td>\n",
       "    </tr>\n",
       "    <tr>\n",
       "      <th>9</th>\n",
       "      <td>TAX</td>\n",
       "      <td>506</td>\n",
       "      <td>408.237154</td>\n",
       "      <td>168.537116</td>\n",
       "      <td>187.00000</td>\n",
       "      <td>330.00000</td>\n",
       "      <td>711.0000</td>\n",
       "    </tr>\n",
       "    <tr>\n",
       "      <th>10</th>\n",
       "      <td>PTRATIO</td>\n",
       "      <td>506</td>\n",
       "      <td>18.455534</td>\n",
       "      <td>2.164946</td>\n",
       "      <td>12.60000</td>\n",
       "      <td>19.05000</td>\n",
       "      <td>22.0000</td>\n",
       "    </tr>\n",
       "    <tr>\n",
       "      <th>11</th>\n",
       "      <td>B</td>\n",
       "      <td>506</td>\n",
       "      <td>356.674032</td>\n",
       "      <td>91.294864</td>\n",
       "      <td>0.32000</td>\n",
       "      <td>391.44000</td>\n",
       "      <td>396.9000</td>\n",
       "    </tr>\n",
       "    <tr>\n",
       "      <th>12</th>\n",
       "      <td>LSTAT</td>\n",
       "      <td>506</td>\n",
       "      <td>12.653063</td>\n",
       "      <td>7.141062</td>\n",
       "      <td>1.73000</td>\n",
       "      <td>11.36000</td>\n",
       "      <td>37.9700</td>\n",
       "    </tr>\n",
       "    <tr>\n",
       "      <th>13</th>\n",
       "      <td>MEDV</td>\n",
       "      <td>506</td>\n",
       "      <td>22.532806</td>\n",
       "      <td>9.197104</td>\n",
       "      <td>5.00000</td>\n",
       "      <td>21.20000</td>\n",
       "      <td>50.0000</td>\n",
       "    </tr>\n",
       "  </tbody>\n",
       "</table>\n",
       "</div>"
      ],
      "text/plain": [
       "       name  observations        mean         std        min        med  \\\n",
       "0      CRIM           506    3.593761    8.596783    0.00632    0.25651   \n",
       "1        ZN           506   11.363636   23.322453    0.00000    0.00000   \n",
       "2     INDUS           506   11.136779    6.860353    0.46000    9.69000   \n",
       "3      CHAS           506    0.069170    0.253994    0.00000    0.00000   \n",
       "4       NOX           506    0.554695    0.115878    0.38500    0.53800   \n",
       "5        RM           506    6.284634    0.702617    3.56100    6.20850   \n",
       "6       AGE           506   68.574901   28.148861    2.90000   77.50000   \n",
       "7       DIS           506    3.795043    2.105710    1.12960    3.20745   \n",
       "8       RAD           506    9.549407    8.707259    1.00000    5.00000   \n",
       "9       TAX           506  408.237154  168.537116  187.00000  330.00000   \n",
       "10  PTRATIO           506   18.455534    2.164946   12.60000   19.05000   \n",
       "11        B           506  356.674032   91.294864    0.32000  391.44000   \n",
       "12    LSTAT           506   12.653063    7.141062    1.73000   11.36000   \n",
       "13     MEDV           506   22.532806    9.197104    5.00000   21.20000   \n",
       "\n",
       "         max  \n",
       "0    88.9762  \n",
       "1   100.0000  \n",
       "2    27.7400  \n",
       "3     1.0000  \n",
       "4     0.8710  \n",
       "5     8.7800  \n",
       "6   100.0000  \n",
       "7    12.1265  \n",
       "8    24.0000  \n",
       "9   711.0000  \n",
       "10   22.0000  \n",
       "11  396.9000  \n",
       "12   37.9700  \n",
       "13   50.0000  "
      ]
     },
     "execution_count": 49,
     "metadata": {},
     "output_type": "execute_result"
    }
   ],
   "source": [
    "columns = ['name', 'observations', 'mean', 'std', 'min', 'med', 'max']\n",
    "data = []\n",
    "for column in boston:\n",
    "    row = []\n",
    "    row.append(column)\n",
    "    row.append(np.count_nonzero(~np.isnan(boston[column])))\n",
    "    row.append(boston[column].mean())\n",
    "    row.append(boston[column].std())\n",
    "    row.append(boston[column].min())\n",
    "    row.append(boston[column].median())\n",
    "    row.append(boston[column].max())\n",
    "    data.append(row)\n",
    "summary = pd.DataFrame(data)\n",
    "summary.columns = columns\n",
    "summary"
   ]
  },
  {
   "cell_type": "markdown",
   "metadata": {},
   "source": [
    "### 1.4 Simple statistical tests\n",
    "\n",
    "Using a t-test, compare the median house value in locations that are adjacent to the Charles River to locations that are not adjacent to the Charles River. Do you reject the null hypothesis that prices are equivalent?"
   ]
  },
  {
   "cell_type": "code",
   "execution_count": 52,
   "metadata": {
    "collapsed": false
   },
   "outputs": [
    {
     "data": {
      "text/plain": [
       "Ttest_indResult(statistic=3.9964374660905091, pvalue=7.3906231705199048e-05)"
      ]
     },
     "execution_count": 52,
     "metadata": {},
     "output_type": "execute_result"
    }
   ],
   "source": [
    "sp.stats.ttest_ind(boston[boston.CHAS == 1].MEDV, boston[boston.CHAS == 0].MEDV)\n",
    "\n",
    "# reject null hypothesis"
   ]
  },
  {
   "cell_type": "markdown",
   "metadata": {},
   "source": [
    "*Write your response here.*"
   ]
  },
  {
   "cell_type": "markdown",
   "metadata": {},
   "source": [
    "---\n",
    "\n",
    "## Part 2: Histograms and Scatterplots\n",
    "\n",
    "\n",
    "### 2.1: Histogram of housing prices\n",
    "\n",
    "Below you will find some very basic code to make a very basic histogram of median housing prices (the \"target\" variable) for your dataset.  Your first task is to make this graph look pretty by doing the following:\n",
    "\n",
    "1. Add appropriate labels to the x and y axes, make sure to include units\n",
    "2. Change the bin width on the histogram to be $1000\n",
    "3. Remove the axes on the top and right side of the plot window\n",
    "4. Change the color of the bars to be green, and remove the black borders from the bars\n"
   ]
  },
  {
   "cell_type": "code",
   "execution_count": 53,
   "metadata": {
    "collapsed": false
   },
   "outputs": [
    {
     "data": {
      "text/plain": [
       "(array([  21.,   55.,   82.,  154.,   84.,   41.,   30.,    8.,   10.,   21.]),\n",
       " array([  5. ,   9.5,  14. ,  18.5,  23. ,  27.5,  32. ,  36.5,  41. ,\n",
       "         45.5,  50. ]),\n",
       " <a list of 10 Patch objects>)"
      ]
     },
     "execution_count": 53,
     "metadata": {},
     "output_type": "execute_result"
    }
   ],
   "source": [
    "# prepare IPython to work with matplotlib and import the library to something convenient\n",
    "# %matplotlib inline  \n",
    "import matplotlib.pyplot as plt  \n",
    "\n",
    "# edit the code below to make the graph look good\n",
    "plt.hist(bdata.target)"
   ]
  },
  {
   "cell_type": "markdown",
   "metadata": {},
   "source": [
    "### 2.2: Scatter plot of housing prices and crime\n",
    "\n",
    "Use matplotlib to create a scatter plot that shows the relationship between the median value of the home (y-axis) and the per-capita crime rate (x-axis).  Properly label your axes, and make sure that your graphic looks polished and professional.\n"
   ]
  },
  {
   "cell_type": "code",
   "execution_count": null,
   "metadata": {
    "collapsed": true
   },
   "outputs": [],
   "source": [
    "# enter your code here"
   ]
  },
  {
   "cell_type": "markdown",
   "metadata": {},
   "source": [
    "### 2.3: Interpret\n",
    "\n",
    "What do you observe in the above scatter plot? Does there appear to be a relationship between crime rates and housing prices in Boston? Calculate the correlation between these two variables. Do you think this relationship is causal, or just a correlation? Justify your position."
   ]
  },
  {
   "cell_type": "markdown",
   "metadata": {},
   "source": [
    "*Write your thoughts here (1-2 paragraphs).*"
   ]
  },
  {
   "cell_type": "markdown",
   "metadata": {},
   "source": [
    "### 2.4 Correlation Matrix\n",
    "\n",
    "Calculate the correlation of every pair of variables in the dataset. Create a *K* x *K* matrix where the value in the (*i*,*j*) cell is the correlation between the *i*th and *j*th variable. Show off your skills by coloring the cell so that large positive correlations appear green and large negative correlations appear green (use a gradient to make this pretty). What two variables appear to me most positively and negatively correlated?"
   ]
  },
  {
   "cell_type": "code",
   "execution_count": null,
   "metadata": {
    "collapsed": true
   },
   "outputs": [],
   "source": [
    "# enter your code here"
   ]
  },
  {
   "cell_type": "markdown",
   "metadata": {},
   "source": [
    "*Write your response here.*"
   ]
  },
  {
   "cell_type": "markdown",
   "metadata": {},
   "source": [
    "### 2.5 Create your own (creative and effective) visualization\n",
    "\n",
    "Use another type of graph or chart to illustrate an interesting pattern in the data.  Be creative in your visualization, and make sure to produce a \"publication-quality\" graph.  Points will be given for useful and creative graphs; points will be deducted for confusing issues like unlabeled axes.  If you're new to data visualization, [this guide](http://pubs.aeaweb.org/doi/pdfplus/10.1257/jep.28.1.209) is a good place to start."
   ]
  },
  {
   "cell_type": "code",
   "execution_count": null,
   "metadata": {
    "collapsed": true
   },
   "outputs": [],
   "source": [
    "# enter your code here"
   ]
  }
 ],
 "metadata": {
  "kernelspec": {
   "display_name": "Python 2",
   "language": "python",
   "name": "python2"
  },
  "language_info": {
   "codemirror_mode": {
    "name": "ipython",
    "version": 2.0
   },
   "file_extension": ".py",
   "mimetype": "text/x-python",
   "name": "python",
   "nbconvert_exporter": "python",
   "pygments_lexer": "ipython2",
   "version": "2.7.11"
  }
 },
 "nbformat": 4,
 "nbformat_minor": 0
}